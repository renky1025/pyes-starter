{
 "cells": [
  {
   "cell_type": "code",
   "execution_count": null,
   "id": "11b533af-4e47-4bfa-bc2b-41742277fdf5",
   "metadata": {},
   "outputs": [],
   "source": [
    "#### conda create -n elastic python=3.10\n",
    "#### conda activate elastic\n",
    "#### python3 -m pip install sentence-transformers elasticsearch transformers\n",
    "#### python elasticsearch 8.10.0\n",
    "#### elasticsearch 8.10.2\n",
    "#### support knn search ,语义搜索，组合搜索\n",
    "#### 语言模型转向量\n"
   ]
  },
  {
   "cell_type": "code",
   "execution_count": 5,
   "id": "f84d21c5-87a4-40eb-91d4-bb2b77eca249",
   "metadata": {},
   "outputs": [
    {
     "data": {
      "text/plain": [
       "SentenceTransformer(\n",
       "  (0): Transformer({'max_seq_length': 256, 'do_lower_case': False}) with Transformer model: BertModel \n",
       "  (1): Pooling({'word_embedding_dimension': 384, 'pooling_mode_cls_token': False, 'pooling_mode_mean_tokens': True, 'pooling_mode_max_tokens': False, 'pooling_mode_mean_sqrt_len_tokens': False})\n",
       "  (2): Normalize()\n",
       ")"
      ]
     },
     "execution_count": 5,
     "metadata": {},
     "output_type": "execute_result"
    }
   ],
   "source": [
    "##\n",
    "from sentence_transformers import SentenceTransformer\n",
    "import torch\n",
    "device = 'cuda' if torch.cuda.is_available() else 'cpu'\n",
    "model = SentenceTransformer('all-MiniLM-L6-v2', device=device)\n",
    "model\n"
   ]
  },
  {
   "cell_type": "code",
   "execution_count": 2,
   "id": "12ec7353-68eb-41f5-bfac-efd944fd586e",
   "metadata": {},
   "outputs": [
    {
     "name": "stdout",
     "output_type": "stream",
     "text": [
      "{'name': 'node-1', 'cluster_name': 'application-es', 'cluster_uuid': 'WbxhejYiSCSbFmNxcAjMwg', 'version': {'number': '8.10.2', 'build_flavor': 'default', 'build_type': 'zip', 'build_hash': '6d20dd8ce62365be9b1aca96427de4622e970e9e', 'build_date': '2023-09-19T08:16:24.564900370Z', 'build_snapshot': False, 'lucene_version': '9.7.0', 'minimum_wire_compatibility_version': '7.17.0', 'minimum_index_compatibility_version': '7.0.0'}, 'tagline': 'You Know, for Search'}\n"
     ]
    }
   ],
   "source": [
    "from elasticsearch import Elasticsearch\n",
    "client = Elasticsearch(['http://localhost:9200'])\n",
    "print(client.info())\n"
   ]
  },
  {
   "cell_type": "code",
   "execution_count": 23,
   "id": "0b91c4a8-95fc-402d-a422-fb3750617936",
   "metadata": {},
   "outputs": [
    {
     "name": "stdout",
     "output_type": "stream",
     "text": [
      "Deleting existing book_index\n"
     ]
    },
    {
     "data": {
      "text/plain": [
       "ObjectApiResponse({'acknowledged': True, 'shards_acknowledged': True, 'index': 'book_index'})"
      ]
     },
     "execution_count": 23,
     "metadata": {},
     "output_type": "execute_result"
    }
   ],
   "source": [
    "INDEX_NAME = \"book_index\"\n",
    "\n",
    "if client.indices.exists(index=INDEX_NAME):\n",
    "    print(\"Deleting existing %s\" % INDEX_NAME)\n",
    "    client.options(ignore_status=[400, 404]).indices.delete(index=INDEX_NAME)\n",
    "\n",
    "\t# Define the mapping\n",
    "request_body = {\n",
    "\t\"settings\" : {\n",
    "\t\t\"number_of_shards\": 2,\n",
    "\t\t\"number_of_replicas\": 0\n",
    "\t},\n",
    "\t'mappings': {\n",
    "\t\t  \"properties\": {\n",
    "\t\t\t \"title_vector\": {\n",
    "\t\t\t\t\"type\": \"dense_vector\",\n",
    "\t\t\t\t\"dims\": 384,\n",
    "\t\t\t\t\"index\": \"true\",\n",
    "\t\t\t\t\"similarity\": \"cosine\"\n",
    "\t\t\t  }\n",
    "\t\t  }\n",
    "\t}\n",
    "}\n",
    "# Create the index\n",
    "client.indices.create(index = INDEX_NAME, settings=request_body[\"settings\"], mappings=request_body[\"mappings\"])"
   ]
  },
  {
   "cell_type": "code",
   "execution_count": 25,
   "id": "724aa70c-c17e-4641-be46-0964e21bc5bf",
   "metadata": {},
   "outputs": [
    {
     "name": "stdout",
     "output_type": "stream",
     "text": [
      "[{'title': 'The Pragmatic Programmer: Your Journey to Mastery', 'authors': ['andrew hunt', 'david thomas'], 'summary': 'A guide to pragmatic programming for software engineers and developers', 'publish_date': '2019-10-29', 'num_reviews': 30, 'publisher': 'addison-wesley'}, {'title': 'Python Crash Course', 'authors': ['eric matthes'], 'summary': 'A fast-paced, no-nonsense guide to programming in Python', 'publish_date': '2019-05-03', 'num_reviews': 42, 'publisher': 'no starch press'}, {'title': 'Artificial Intelligence: A Modern Approach', 'authors': ['stuart russell', 'peter norvig'], 'summary': 'Comprehensive introduction to the theory and practice of artificial intelligence', 'publish_date': '2020-04-06', 'num_reviews': 39, 'publisher': 'pearson'}, {'title': 'Clean Code: A Handbook of Agile Software Craftsmanship', 'authors': ['robert c. martin'], 'summary': 'A guide to writing code that is easy to read, understand and maintain', 'publish_date': '2008-08-11', 'num_reviews': 55, 'publisher': 'prentice hall'}, {'title': \"You Don't Know JS: Up & Going\", 'authors': ['kyle simpson'], 'summary': 'Introduction to JavaScript and programming as a whole', 'publish_date': '2015-03-27', 'num_reviews': 36, 'publisher': 'oreilly'}, {'title': 'Eloquent JavaScript', 'authors': ['marijn haverbeke'], 'summary': 'A modern introduction to programming', 'publish_date': '2018-12-04', 'num_reviews': 38, 'publisher': 'no starch press'}, {'title': 'Design Patterns: Elements of Reusable Object-Oriented Software', 'authors': ['erich gamma', 'richard helm', 'ralph johnson', 'john vlissides'], 'summary': 'Guide to design patterns that can be used in any object-oriented language', 'publish_date': '1994-10-31', 'num_reviews': 45, 'publisher': 'addison-wesley'}, {'title': 'The Clean Coder: A Code of Conduct for Professional Programmers', 'authors': ['robert c. martin'], 'summary': 'A guide to professional conduct in the field of software engineering', 'publish_date': '2011-05-13', 'num_reviews': 20, 'publisher': 'prentice hall'}, {'title': 'JavaScript: The Good Parts', 'authors': ['douglas crockford'], 'summary': 'A deep dive into the parts of JavaScript that are essential to writing maintainable code', 'publish_date': '2008-05-15', 'num_reviews': 51, 'publisher': 'oreilly'}, {'title': 'Introduction to the Theory of Computation', 'authors': ['michael sipser'], 'summary': 'Introduction to the theory of computation and complexity theory', 'publish_date': '2012-06-27', 'num_reviews': 33, 'publisher': 'cengage learning'}]\n"
     ]
    },
    {
     "data": {
      "text/plain": [
       "ObjectApiResponse({'errors': False, 'took': 45, 'items': [{'index': {'_index': 'book_index', '_id': 'tLstEosBy5HE9tVwgp4r', '_version': 1, 'result': 'created', '_shards': {'total': 1, 'successful': 1, 'failed': 0}, '_seq_no': 4, '_primary_term': 1, 'status': 201}}, {'index': {'_index': 'book_index', '_id': 'tbstEosBy5HE9tVwgp4r', '_version': 1, 'result': 'created', '_shards': {'total': 1, 'successful': 1, 'failed': 0}, '_seq_no': 5, '_primary_term': 1, 'status': 201}}, {'index': {'_index': 'book_index', '_id': 'trstEosBy5HE9tVwgp4r', '_version': 1, 'result': 'created', '_shards': {'total': 1, 'successful': 1, 'failed': 0}, '_seq_no': 6, '_primary_term': 1, 'status': 201}}, {'index': {'_index': 'book_index', '_id': 't7stEosBy5HE9tVwgp4r', '_version': 1, 'result': 'created', '_shards': {'total': 1, 'successful': 1, 'failed': 0}, '_seq_no': 6, '_primary_term': 1, 'status': 201}}, {'index': {'_index': 'book_index', '_id': 'uLstEosBy5HE9tVwgp4r', '_version': 1, 'result': 'created', '_shards': {'total': 1, 'successful': 1, 'failed': 0}, '_seq_no': 7, '_primary_term': 1, 'status': 201}}, {'index': {'_index': 'book_index', '_id': 'ubstEosBy5HE9tVwgp4r', '_version': 1, 'result': 'created', '_shards': {'total': 1, 'successful': 1, 'failed': 0}, '_seq_no': 7, '_primary_term': 1, 'status': 201}}, {'index': {'_index': 'book_index', '_id': 'urstEosBy5HE9tVwgp4r', '_version': 1, 'result': 'created', '_shards': {'total': 1, 'successful': 1, 'failed': 0}, '_seq_no': 8, '_primary_term': 1, 'status': 201}}, {'index': {'_index': 'book_index', '_id': 'u7stEosBy5HE9tVwgp4r', '_version': 1, 'result': 'created', '_shards': {'total': 1, 'successful': 1, 'failed': 0}, '_seq_no': 9, '_primary_term': 1, 'status': 201}}, {'index': {'_index': 'book_index', '_id': 'vLstEosBy5HE9tVwgp4r', '_version': 1, 'result': 'created', '_shards': {'total': 1, 'successful': 1, 'failed': 0}, '_seq_no': 8, '_primary_term': 1, 'status': 201}}, {'index': {'_index': 'book_index', '_id': 'vbstEosBy5HE9tVwgp4r', '_version': 1, 'result': 'created', '_shards': {'total': 1, 'successful': 1, 'failed': 0}, '_seq_no': 10, '_primary_term': 1, 'status': 201}}]})"
      ]
     },
     "execution_count": 25,
     "metadata": {},
     "output_type": "execute_result"
    }
   ],
   "source": [
    "\n",
    "import json\n",
    "# Load data into a JSON object\n",
    "with open(r'C:\\Users\\shuyu-renky\\book.json') as f:\n",
    "\tdata_json = json.load(f)\n",
    "\tprint(data_json)\n",
    "\n",
    "\tactions = []\n",
    "\tfor book in data_json:\n",
    "\t\tactions.append({\"index\": {\"_index\": INDEX_NAME}})\n",
    "\t\t# Transforming the title into an embedding using the model\n",
    "\t\tbook[\"title_vector\"] = model.encode(book[\"title\"]).tolist()\n",
    "\t\tactions.append(book)\n",
    "client.bulk(operations=actions)"
   ]
  },
  {
   "cell_type": "code",
   "execution_count": 26,
   "id": "47734c66-f695-4f23-b3c0-d3879a528054",
   "metadata": {},
   "outputs": [],
   "source": [
    "def pretty_response(response):\n",
    "\tfor hit in response['hits']['hits']:\n",
    "\t\tid = hit['_id']\n",
    "\t\tpublication_date = hit['_source']['publish_date']\n",
    "\t\tscore = hit['_score']\n",
    "\t\ttitle = hit['_source']['title']\n",
    "\t\tsummary = hit['_source']['summary']\n",
    "\t\tpublisher = hit[\"_source\"][\"publisher\"]\n",
    "\t\tnum_reviews = hit[\"_source\"][\"num_reviews\"]\n",
    "\t\tauthors = hit[\"_source\"][\"authors\"]\n",
    "\t\tpretty_output = (f\"\\nID: {id}\\nPublication date: {publication_date}\\nTitle: {title}\\nSummary: {summary}\\nPublisher: {publisher}\\nReviews: {num_reviews}\\nAuthors: {authors}\\nScore: {score}\")\n",
    "\t\tprint(pretty_output)"
   ]
  },
  {
   "cell_type": "code",
   "execution_count": 27,
   "id": "d3f9a2ea-f416-4b05-bf93-15fb0b25eb5c",
   "metadata": {},
   "outputs": [
    {
     "name": "stdout",
     "output_type": "stream",
     "text": [
      "\n",
      "ID: srstEosBy5HE9tVwPJ75\n",
      "Publication date: 2008-05-15\n",
      "Title: JavaScript: The Good Parts\n",
      "Summary: A deep dive into the parts of JavaScript that are essential to writing maintainable code\n",
      "Publisher: oreilly\n",
      "Reviews: 51\n",
      "Authors: ['douglas crockford']\n",
      "Score: 0.8075248\n",
      "\n",
      "ID: vLstEosBy5HE9tVwgp4r\n",
      "Publication date: 2008-05-15\n",
      "Title: JavaScript: The Good Parts\n",
      "Summary: A deep dive into the parts of JavaScript that are essential to writing maintainable code\n",
      "Publisher: oreilly\n",
      "Reviews: 51\n",
      "Authors: ['douglas crockford']\n",
      "Score: 0.8075248\n",
      "\n",
      "ID: rrstEosBy5HE9tVwPJ75\n",
      "Publication date: 2015-03-27\n",
      "Title: You Don't Know JS: Up & Going\n",
      "Summary: Introduction to JavaScript and programming as a whole\n",
      "Publisher: oreilly\n",
      "Reviews: 36\n",
      "Authors: ['kyle simpson']\n",
      "Score: 0.6946183\n",
      "\n",
      "ID: uLstEosBy5HE9tVwgp4r\n",
      "Publication date: 2015-03-27\n",
      "Title: You Don't Know JS: Up & Going\n",
      "Summary: Introduction to JavaScript and programming as a whole\n",
      "Publisher: oreilly\n",
      "Reviews: 36\n",
      "Authors: ['kyle simpson']\n",
      "Score: 0.6946183\n",
      "\n",
      "ID: ubstEosBy5HE9tVwgp4r\n",
      "Publication date: 2018-12-04\n",
      "Title: Eloquent JavaScript\n",
      "Summary: A modern introduction to programming\n",
      "Publisher: no starch press\n",
      "Reviews: 38\n",
      "Authors: ['marijn haverbeke']\n",
      "Score: 0.6617908\n",
      "\n",
      "ID: r7stEosBy5HE9tVwPJ75\n",
      "Publication date: 2018-12-04\n",
      "Title: Eloquent JavaScript\n",
      "Summary: A modern introduction to programming\n",
      "Publisher: no starch press\n",
      "Reviews: 38\n",
      "Authors: ['marijn haverbeke']\n",
      "Score: 0.6617908\n",
      "\n",
      "ID: qrstEosBy5HE9tVwPJ75\n",
      "Publication date: 2019-10-29\n",
      "Title: The Pragmatic Programmer: Your Journey to Mastery\n",
      "Summary: A guide to pragmatic programming for software engineers and developers\n",
      "Publisher: addison-wesley\n",
      "Reviews: 30\n",
      "Authors: ['andrew hunt', 'david thomas']\n",
      "Score: 0.61159486\n",
      "\n",
      "ID: tLstEosBy5HE9tVwgp4r\n",
      "Publication date: 2019-10-29\n",
      "Title: The Pragmatic Programmer: Your Journey to Mastery\n",
      "Summary: A guide to pragmatic programming for software engineers and developers\n",
      "Publisher: addison-wesley\n",
      "Reviews: 30\n",
      "Authors: ['andrew hunt', 'david thomas']\n",
      "Score: 0.61159486\n",
      "\n",
      "ID: vbstEosBy5HE9tVwgp4r\n",
      "Publication date: 2012-06-27\n",
      "Title: Introduction to the Theory of Computation\n",
      "Summary: Introduction to the theory of computation and complexity theory\n",
      "Publisher: cengage learning\n",
      "Reviews: 33\n",
      "Authors: ['michael sipser']\n",
      "Score: 0.58697784\n",
      "\n",
      "ID: s7stEosBy5HE9tVwPJ75\n",
      "Publication date: 2012-06-27\n",
      "Title: Introduction to the Theory of Computation\n",
      "Summary: Introduction to the theory of computation and complexity theory\n",
      "Publisher: cengage learning\n",
      "Reviews: 33\n",
      "Authors: ['michael sipser']\n",
      "Score: 0.58697784\n"
     ]
    }
   ],
   "source": [
    "INDEX_NAME = \"book_index\"\n",
    "response = client.search(index=INDEX_NAME, knn={\n",
    "    \"field\": \"title_vector\",\n",
    "    \"query_vector\": model.encode(\"Best javascript books?\"),\n",
    "    \"k\": 10,\n",
    "    \"num_candidates\": 100\n",
    "})\n",
    "\n",
    "pretty_response(response)"
   ]
  },
  {
   "cell_type": "code",
   "execution_count": 28,
   "id": "a2f3f370-d03d-4d74-b176-ab1fc89649e1",
   "metadata": {},
   "outputs": [
    {
     "name": "stdout",
     "output_type": "stream",
     "text": [
      "\n",
      "ID: qrstEosBy5HE9tVwPJ75\n",
      "Publication date: 2019-10-29\n",
      "Title: The Pragmatic Programmer: Your Journey to Mastery\n",
      "Summary: A guide to pragmatic programming for software engineers and developers\n",
      "Publisher: addison-wesley\n",
      "Reviews: 30\n",
      "Authors: ['andrew hunt', 'david thomas']\n",
      "Score: 0.61159486\n",
      "\n",
      "ID: tLstEosBy5HE9tVwgp4r\n",
      "Publication date: 2019-10-29\n",
      "Title: The Pragmatic Programmer: Your Journey to Mastery\n",
      "Summary: A guide to pragmatic programming for software engineers and developers\n",
      "Publisher: addison-wesley\n",
      "Reviews: 30\n",
      "Authors: ['andrew hunt', 'david thomas']\n",
      "Score: 0.61159486\n",
      "\n",
      "ID: sbstEosBy5HE9tVwPJ75\n",
      "Publication date: 2011-05-13\n",
      "Title: The Clean Coder: A Code of Conduct for Professional Programmers\n",
      "Summary: A guide to professional conduct in the field of software engineering\n",
      "Publisher: prentice hall\n",
      "Reviews: 20\n",
      "Authors: ['robert c. martin']\n",
      "Score: 0.57042736\n",
      "\n",
      "ID: u7stEosBy5HE9tVwgp4r\n",
      "Publication date: 2011-05-13\n",
      "Title: The Clean Coder: A Code of Conduct for Professional Programmers\n",
      "Summary: A guide to professional conduct in the field of software engineering\n",
      "Publisher: prentice hall\n",
      "Reviews: 20\n",
      "Authors: ['robert c. martin']\n",
      "Score: 0.57042736\n",
      "\n",
      "ID: sLstEosBy5HE9tVwPJ75\n",
      "Publication date: 1994-10-31\n",
      "Title: Design Patterns: Elements of Reusable Object-Oriented Software\n",
      "Summary: Guide to design patterns that can be used in any object-oriented language\n",
      "Publisher: addison-wesley\n",
      "Reviews: 45\n",
      "Authors: ['erich gamma', 'richard helm', 'ralph johnson', 'john vlissides']\n",
      "Score: 0.5617569\n",
      "\n",
      "ID: urstEosBy5HE9tVwgp4r\n",
      "Publication date: 1994-10-31\n",
      "Title: Design Patterns: Elements of Reusable Object-Oriented Software\n",
      "Summary: Guide to design patterns that can be used in any object-oriented language\n",
      "Publisher: addison-wesley\n",
      "Reviews: 45\n",
      "Authors: ['erich gamma', 'richard helm', 'ralph johnson', 'john vlissides']\n",
      "Score: 0.5617569\n",
      "\n",
      "ID: rbstEosBy5HE9tVwPJ75\n",
      "Publication date: 2008-08-11\n",
      "Title: Clean Code: A Handbook of Agile Software Craftsmanship\n",
      "Summary: A guide to writing code that is easy to read, understand and maintain\n",
      "Publisher: prentice hall\n",
      "Reviews: 55\n",
      "Authors: ['robert c. martin']\n",
      "Score: 0.55407417\n",
      "\n",
      "ID: t7stEosBy5HE9tVwgp4r\n",
      "Publication date: 2008-08-11\n",
      "Title: Clean Code: A Handbook of Agile Software Craftsmanship\n",
      "Summary: A guide to writing code that is easy to read, understand and maintain\n",
      "Publisher: prentice hall\n",
      "Reviews: 55\n",
      "Authors: ['robert c. martin']\n",
      "Score: 0.55407417\n"
     ]
    }
   ],
   "source": [
    "INDEX_NAME = \"book_index\"\n",
    "response = client.search(index=INDEX_NAME, knn={\n",
    "    \"field\": \"title_vector\",\n",
    "    \"query_vector\": model.encode(\"Best javascript books?\"),\n",
    "    \"k\": 10,\n",
    "    \"num_candidates\": 100,\n",
    "    \"filter\": {\n",
    "        \"bool\": {\n",
    "                    \"should\": [\n",
    "                        {\n",
    "                         \"term\": {\n",
    "                             \"publisher.keyword\": \"addison-wesley\"\n",
    "                         }\n",
    "                        },\n",
    "                       {\n",
    "                        \"term\": {\n",
    "                              \"authors.keyword\": \"robert c. martin\"\n",
    "                         }\n",
    "                       }\n",
    "                   ],\n",
    "    \n",
    "             }\n",
    "    }\n",
    "})\n",
    "\n",
    "pretty_response(response)"
   ]
  },
  {
   "cell_type": "code",
   "execution_count": null,
   "id": "390a33b3-fd41-455f-a235-3b37079b927b",
   "metadata": {},
   "outputs": [],
   "source": []
  }
 ],
 "metadata": {
  "kernelspec": {
   "display_name": "Python 3 (ipykernel)",
   "language": "python",
   "name": "python3"
  },
  "language_info": {
   "codemirror_mode": {
    "name": "ipython",
    "version": 3
   },
   "file_extension": ".py",
   "mimetype": "text/x-python",
   "name": "python",
   "nbconvert_exporter": "python",
   "pygments_lexer": "ipython3",
   "version": "3.10.13"
  }
 },
 "nbformat": 4,
 "nbformat_minor": 5
}
